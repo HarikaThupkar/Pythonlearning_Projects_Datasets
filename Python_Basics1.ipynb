{
 "cells": [
  {
   "cell_type": "code",
   "execution_count": 6,
   "metadata": {},
   "outputs": [
    {
     "name": "stdout",
     "output_type": "stream",
     "text": [
      "range(0, 5)\n",
      "0\n",
      "2\n",
      "4\n"
     ]
    }
   ],
   "source": [
    "print (range(5))\n",
    "for i in range(0,5,2):\n",
    "    print(i)"
   ]
  },
  {
   "cell_type": "code",
   "execution_count": 16,
   "metadata": {},
   "outputs": [
    {
     "name": "stdout",
     "output_type": "stream",
     "text": [
      "Built-in mutable sequence.\n",
      "\n",
      "If no argument is given, the constructor creates a new empty list.\n",
      "The argument must be an iterable if specified.\n",
      "[6, 7, 8, 9, 10]\n",
      "8\n",
      "6\n",
      "7\n",
      "8\n",
      "9\n",
      "10\n",
      "0 6\n",
      "1 7\n",
      "2 8\n",
      "3 9\n",
      "4 10\n",
      "6\n",
      "7\n"
     ]
    }
   ],
   "source": [
    "# list initialization\n",
    "list1 = [6,7,8,9,10]\n",
    "print(list1.__doc__)\n",
    "print(list1)\n",
    "print(list1[2])\n",
    "dir(list1)\n",
    "for i in list1:\n",
    "    print(i)\n",
    "for i,j in enumerate(list1):\n",
    "    print(i,j)\n",
    "for i in range(len(list1)-3):\n",
    "    print(list1[i])"
   ]
  },
  {
   "cell_type": "code",
   "execution_count": 36,
   "metadata": {},
   "outputs": [
    {
     "name": "stdout",
     "output_type": "stream",
     "text": [
      "{1, 2, 3, 4, 5, 6, 8}\n",
      "3\n",
      "3 2\n",
      "1\n",
      "2\n",
      "3\n",
      "4\n",
      "5\n",
      "6\n",
      "8\n",
      "1\n",
      "2\n",
      "3\n",
      "4\n",
      "5\n",
      "6\n",
      "8\n",
      "{1, 2, 3, 4, 5}\n"
     ]
    }
   ],
   "source": [
    "#Set Initialization \n",
    "set1={1,2,3,3,4,8,5,6,6}\n",
    "print(set1)\n",
    "# to acess elements from a particular location from set\n",
    "print(list(set1)[2])\n",
    "# acessing multiple elements from a particular location from set.\n",
    "print(list(set1)[2],list(set1)[1])\n",
    "#To print the set elements dynamically\n",
    "for i in set1:\n",
    "    print(i)\n",
    "#print set elements dynamically\n",
    "for i in range(len(set1)):\n",
    "    print(list(set1)[i])\n",
    "\n",
    "\n",
    "#Removing duplicate values\n",
    "list1 = [1,2,2,3,4,4,5]\n",
    "set1= set(list1)\n",
    "print(set1)"
   ]
  },
  {
   "cell_type": "code",
   "execution_count": 40,
   "metadata": {},
   "outputs": [
    {
     "name": "stdout",
     "output_type": "stream",
     "text": [
      "{'Name': 'Harika', 'Proffession': 'Work all time'}\n",
      "Harika\n"
     ]
    }
   ],
   "source": [
    "# dict initializing \n",
    "dict1={\"Name\":\"Harika\",\"Proffession\":\"Work all time\"}\n",
    "print(dict1)\n",
    "print(dict1['Name'])"
   ]
  },
  {
   "cell_type": "code",
   "execution_count": 41,
   "metadata": {},
   "outputs": [
    {
     "name": "stdout",
     "output_type": "stream",
     "text": [
      "(1, 2, 3, 4)\n",
      "3\n"
     ]
    }
   ],
   "source": [
    "#Tuples initialization\n",
    "tup1 = (1,2,3,4)\n",
    "print(tup1)\n",
    "print(tup1[2])"
   ]
  },
  {
   "cell_type": "code",
   "execution_count": 42,
   "metadata": {},
   "outputs": [],
   "source": [
    "#List methods:\n",
    "#List: is a collection which is ordered and changeable.\n",
    "#Tuple: is a collection which is ordered and unchangeable.\n",
    "#Set: is collection which is unordered and unindexed.\n",
    "#Dictionary: is a collection which is unordered and changeable.\n",
    "\n",
    "#List methods in python(Reference: W3 schools)\n",
    "#append(), copy(), count(),clear(), extend(),index(),insert(), pop(),remove(), reverse(), sort()\n",
    "#few more from GeeksforGeeks: in, not in, len(), min(), max(), del.\n",
    "\n",
    "#Set methods: (Reference: W3 schools)\n",
    "#add(), clear(), difference(), difference_update(), discard(), intersection, pop(), update(), intersection_update(),\n",
    "# isdisjoint(), issubset(), issuperset(), remove(), symmetric_difference(), symmetric_difference_update(), union()\n",
    "\n",
    "#Tuple methods: (Reference: W3 Schools)\n",
    "# count(), index()\n",
    "\n",
    "# Dictionary methods:\n",
    "# clear(), copy(), fromkeys(), get(), items(), key(), pop(), popitem(), setdefault(), update(), values()"
   ]
  },
  {
   "cell_type": "code",
   "execution_count": 6,
   "metadata": {},
   "outputs": [
    {
     "name": "stdout",
     "output_type": "stream",
     "text": [
      "3\n"
     ]
    }
   ],
   "source": [
    "#Understanding list methods:\n",
    "#len():\n",
    "thislist = [\"apple\", \"banana\", \"cherry\"]\n",
    "print(len(thislist))"
   ]
  },
  {
   "cell_type": "code",
   "execution_count": 7,
   "metadata": {},
   "outputs": [
    {
     "name": "stdout",
     "output_type": "stream",
     "text": [
      "['cherry', 'apple']\n"
     ]
    }
   ],
   "source": [
    "thislist.remove(\"banana\")\n",
    "thislist.reverse()\n",
    "print(thislist)"
   ]
  },
  {
   "cell_type": "code",
   "execution_count": 8,
   "metadata": {},
   "outputs": [
    {
     "data": {
      "text/plain": [
       "[]"
      ]
     },
     "execution_count": 8,
     "metadata": {},
     "output_type": "execute_result"
    }
   ],
   "source": [
    "#Removing list elements completely.\n",
    "thislist.clear()\n",
    "thislist"
   ]
  },
  {
   "cell_type": "code",
   "execution_count": null,
   "metadata": {},
   "outputs": [],
   "source": []
  }
 ],
 "metadata": {
  "kernelspec": {
   "display_name": "Python 3",
   "language": "python",
   "name": "python3"
  },
  "language_info": {
   "codemirror_mode": {
    "name": "ipython",
    "version": 3
   },
   "file_extension": ".py",
   "mimetype": "text/x-python",
   "name": "python",
   "nbconvert_exporter": "python",
   "pygments_lexer": "ipython3",
   "version": "3.8.5"
  }
 },
 "nbformat": 4,
 "nbformat_minor": 4
}
