{
 "cells": [
  {
   "cell_type": "code",
   "execution_count": 6,
   "metadata": {},
   "outputs": [
    {
     "name": "stdout",
     "output_type": "stream",
     "text": [
      "range(0, 5)\n",
      "0\n",
      "2\n",
      "4\n"
     ]
    }
   ],
   "source": [
    "print (range(5))\n",
    "for i in range(0,5,2):\n",
    "    print(i)"
   ]
  },
  {
   "cell_type": "code",
   "execution_count": 16,
   "metadata": {},
   "outputs": [
    {
     "name": "stdout",
     "output_type": "stream",
     "text": [
      "Built-in mutable sequence.\n",
      "\n",
      "If no argument is given, the constructor creates a new empty list.\n",
      "The argument must be an iterable if specified.\n",
      "[6, 7, 8, 9, 10]\n",
      "8\n",
      "6\n",
      "7\n",
      "8\n",
      "9\n",
      "10\n",
      "0 6\n",
      "1 7\n",
      "2 8\n",
      "3 9\n",
      "4 10\n",
      "6\n",
      "7\n"
     ]
    }
   ],
   "source": [
    "# list initialization\n",
    "list1 = [6,7,8,9,10]\n",
    "print(list1.__doc__)\n",
    "print(list1)\n",
    "print(list1[2])\n",
    "dir(list1)\n",
    "for i in list1:\n",
    "    print(i)\n",
    "for i,j in enumerate(list1):\n",
    "    print(i,j)\n",
    "for i in range(len(list1)-3):\n",
    "    print(list1[i])"
   ]
  },
  {
   "cell_type": "code",
   "execution_count": 36,
   "metadata": {},
   "outputs": [
    {
     "name": "stdout",
     "output_type": "stream",
     "text": [
      "{1, 2, 3, 4, 5, 6, 8}\n",
      "3\n",
      "3 2\n",
      "1\n",
      "2\n",
      "3\n",
      "4\n",
      "5\n",
      "6\n",
      "8\n",
      "1\n",
      "2\n",
      "3\n",
      "4\n",
      "5\n",
      "6\n",
      "8\n",
      "{1, 2, 3, 4, 5}\n"
     ]
    }
   ],
   "source": [
    "#Set Initialization \n",
    "set1={1,2,3,3,4,8,5,6,6}\n",
    "print(set1)\n",
    "# to acess elements from a particular location from set\n",
    "print(list(set1)[2])\n",
    "# acessing multiple elements from a particular location from set.\n",
    "print(list(set1)[2],list(set1)[1])\n",
    "#To print the set elements dynamically\n",
    "for i in set1:\n",
    "    print(i)\n",
    "#print set elements dynamically\n",
    "for i in range(len(set1)):\n",
    "    print(list(set1)[i])\n",
    "\n",
    "\n",
    "#Removing duplicate values\n",
    "list1 = [1,2,2,3,4,4,5]\n",
    "set1= set(list1)\n",
    "print(set1)"
   ]
  },
  {
   "cell_type": "code",
   "execution_count": null,
   "metadata": {},
   "outputs": [],
   "source": []
  }
 ],
 "metadata": {
  "kernelspec": {
   "display_name": "Python 3",
   "language": "python",
   "name": "python3"
  },
  "language_info": {
   "codemirror_mode": {
    "name": "ipython",
    "version": 3
   },
   "file_extension": ".py",
   "mimetype": "text/x-python",
   "name": "python",
   "nbconvert_exporter": "python",
   "pygments_lexer": "ipython3",
   "version": "3.8.5"
  }
 },
 "nbformat": 4,
 "nbformat_minor": 4
}
