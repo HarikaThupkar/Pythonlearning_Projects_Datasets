{
 "cells": [
  {
   "cell_type": "code",
   "execution_count": 1,
   "metadata": {},
   "outputs": [
    {
     "name": "stdout",
     "output_type": "stream",
     "text": [
      "25\n"
     ]
    }
   ],
   "source": [
    "def square(a):\n",
    "    return a*a\n",
    "print(square(5))"
   ]
  },
  {
   "cell_type": "code",
   "execution_count": 12,
   "metadata": {},
   "outputs": [
    {
     "name": "stdout",
     "output_type": "stream",
     "text": [
      "6\n"
     ]
    }
   ],
   "source": [
    "# in the below code def is the defination which your defining and SUm is the method/function name which you will be assigning.\n",
    "#(a,b,c) are the parameters which are callable by assigning some values to it. What ever the defination is defined with \n",
    "# some method/function name, we will call inside the print using same method name by assigning some values to the parameters. \n",
    "\n",
    "def Sum(a,b,c):\n",
    "    return a+b+c\n",
    "print(Sum(3,2,1))"
   ]
  },
  {
   "cell_type": "code",
   "execution_count": 13,
   "metadata": {},
   "outputs": [
    {
     "name": "stdout",
     "output_type": "stream",
     "text": [
      "25\n"
     ]
    }
   ],
   "source": [
    "#Above function converting to lambda\n",
    "square_using_lambda = lambda a : a * a\n",
    "print(square_using_lambda(5))"
   ]
  },
  {
   "cell_type": "code",
   "execution_count": 14,
   "metadata": {},
   "outputs": [
    {
     "name": "stdout",
     "output_type": "stream",
     "text": [
      "5\n"
     ]
    }
   ],
   "source": [
    "Add_using_lambda = lambda a,b : a+b\n",
    "print(Add_using_lambda(3,2))"
   ]
  },
  {
   "cell_type": "code",
   "execution_count": 15,
   "metadata": {},
   "outputs": [
    {
     "name": "stdout",
     "output_type": "stream",
     "text": [
      "above average\n"
     ]
    }
   ],
   "source": [
    "average = 60\n",
    "def return_status(marks):\n",
    "    if marks > average:\n",
    "        return 'above average'\n",
    "    elif marks <= average:\n",
    "        return 'below average'\n",
    "print(return_status(75))"
   ]
  },
  {
   "cell_type": "code",
   "execution_count": null,
   "metadata": {},
   "outputs": [],
   "source": [
    "return_status = lambda marks:"
   ]
  },
  {
   "cell_type": "code",
   "execution_count": 16,
   "metadata": {},
   "outputs": [
    {
     "name": "stdout",
     "output_type": "stream",
     "text": [
      "below average\n"
     ]
    }
   ],
   "source": [
    "\n",
    "#Above can be written in a beautifying code using Lamda function\n",
    "return_status = lambda marks: 'above average' if marks > average else 'below average'\n",
    "print(return_status(55))\n",
    "#Notify that if condition and function is beautified code."
   ]
  },
  {
   "cell_type": "code",
   "execution_count": 17,
   "metadata": {},
   "outputs": [
    {
     "name": "stdout",
     "output_type": "stream",
     "text": [
      "[1, 4, 9, 16, 25]\n"
     ]
    }
   ],
   "source": [
    "#map function. Example:  f(x) = x^2 which means for each x value return value is square of x.\n",
    "domain = [1,2,3,4,5]\n",
    "map_range = map(lambda x: x *x, domain)\n",
    "print(list(map_range))"
   ]
  },
  {
   "cell_type": "code",
   "execution_count": 25,
   "metadata": {},
   "outputs": [
    {
     "name": "stdout",
     "output_type": "stream",
     "text": [
      "[4, 10, 18]\n"
     ]
    }
   ],
   "source": [
    "#When multile lists are given\n",
    "list1 = [1, 2, 3]\n",
    "list2 = [4, 5, 6]\n",
    "products = []\n",
    "\n",
    "\n",
    "for num1, num2 in zip(list1, list2):\n",
    "    products.append(num1 * num2)\n",
    "\n",
    "print(products)"
   ]
  },
  {
   "cell_type": "code",
   "execution_count": 26,
   "metadata": {},
   "outputs": [
    {
     "name": "stdout",
     "output_type": "stream",
     "text": [
      "[5, 24, 63, 128]\n"
     ]
    }
   ],
   "source": [
    "#https://www.kite.com/python/answers/how-to-multiply-two-lists-in-python\n",
    "#when 3 lists are assigned and do multiplication on them.\n",
    "a=[1,2,3,4]\n",
    "b=[5,6,7,8]\n",
    "c=[1,2,3,4]\n",
    "product = []\n",
    "\n",
    "for num1,num2,num3 in zip(a,b,c):\n",
    "    product.append(num1*num2*num3)\n",
    "    \n",
    "print(product)"
   ]
  },
  {
   "cell_type": "code",
   "execution_count": 31,
   "metadata": {},
   "outputs": [
    {
     "name": "stdout",
     "output_type": "stream",
     "text": [
      "[4, 10, 18]\n"
     ]
    }
   ],
   "source": [
    "list1 = [1, 2, 3]\n",
    "list2 = [4, 5, 6]\n",
    "\n",
    "products = [a * b for a, b in zip(list1, list2)]\n",
    "\n",
    "print(products)"
   ]
  },
  {
   "cell_type": "code",
   "execution_count": 27,
   "metadata": {},
   "outputs": [
    {
     "name": "stdout",
     "output_type": "stream",
     "text": [
      "Resultant list is : [5, 12, 21, 32]\n"
     ]
    }
   ],
   "source": [
    "# Python code to demonstrate  \n",
    "# Multiplying two lists \n",
    "# list comprehension \n",
    "\n",
    "L1 = [1,2,3,4]\n",
    "L2 = [5,6,7,8]\n",
    "\n",
    "res_list = [L1[i] * L2[i] for i in range(len(L1))] \n",
    "  \n",
    "# printing resultant list  \n",
    "print (\"Resultant list is : \" + str(res_list))"
   ]
  },
  {
   "cell_type": "code",
   "execution_count": 29,
   "metadata": {},
   "outputs": [
    {
     "name": "stdout",
     "output_type": "stream",
     "text": [
      "Original list 1 : [1, 3, 4, 6, 8]\n",
      "Original list 2 : [4, 5, 6, 2, 10]\n",
      "Resultant list is : [4, 15, 24, 12, 80]\n"
     ]
    }
   ],
   "source": [
    "#https://www.geeksforgeeks.org/python-multiply-two-list/\n",
    "# there is another method to multiply 2 lists which is called as Navie method.\n",
    "# Python code to demonstrate  \n",
    "# Multiplying two lists \n",
    "# naive method  \n",
    "  \n",
    "# initializing lists \n",
    "test_list1 = [1, 3, 4, 6, 8] \n",
    "test_list2 = [4, 5, 6, 2, 10] \n",
    "  \n",
    "# printing original lists \n",
    "print (\"Original list 1 : \" + str(test_list1)) \n",
    "print (\"Original list 2 : \" + str(test_list2)) \n",
    "  \n",
    "# using naive method to  \n",
    "# Multiplying two lists \n",
    "res_list = [] \n",
    "for i in range(0, len(test_list1)): \n",
    "    res_list.append(test_list1[i] * test_list2[i]) \n",
    "\n",
    "# printing resultant list  \n",
    "  \n",
    "print (\"Resultant list is : \" + str(res_list)) "
   ]
  },
  {
   "cell_type": "code",
   "execution_count": 14,
   "metadata": {},
   "outputs": [
    {
     "name": "stdout",
     "output_type": "stream",
     "text": [
      "0.0\n",
      "100.0\n",
      "200.0\n",
      "300.0\n",
      "400.0\n",
      "500.0\n",
      "600.0\n",
      "700.0\n",
      "800.0\n",
      "900.0\n",
      "1000.0\n",
      "1100.0\n",
      "1200.0\n",
      "1300.0\n",
      "1400.0\n",
      "1500.0\n",
      "1600.0\n",
      "1700.0\n",
      "1800.0\n",
      "1900.0\n",
      "2000.0\n",
      "2100.0\n",
      "2200.0\n",
      "2300.0\n",
      "2400.0\n",
      "2500.0\n",
      "2600.0\n",
      "2700.0\n",
      "2800.0\n",
      "2900.0\n",
      "3000.0\n",
      "3100.0\n",
      "3200.0\n",
      "3300.0\n",
      "3400.0\n",
      "3500.0\n",
      "3600.0\n",
      "3700.0\n",
      "3800.0\n",
      "3900.0\n",
      "4000.0\n",
      "4100.0\n",
      "4200.0\n",
      "4300.0\n",
      "4400.0\n",
      "4500.0\n",
      "4600.0\n",
      "4700.0\n",
      "4800.0\n",
      "4900.0\n",
      "5000.0\n",
      "5100.0\n",
      "5200.0\n",
      "5300.0\n",
      "5400.0\n",
      "5500.0\n",
      "5600.0\n",
      "5700.0\n",
      "5800.0\n",
      "5900.0\n",
      "6000.0\n",
      "6100.0\n",
      "6200.0\n",
      "6300.0\n",
      "6400.0\n",
      "6500.0\n",
      "6600.0\n",
      "6700.0\n",
      "6800.0\n",
      "6900.0\n",
      "7000.0\n",
      "7100.0\n",
      "7200.0\n",
      "7300.0\n",
      "7400.0\n",
      "7500.0\n",
      "7600.0\n",
      "7700.0\n",
      "7800.0\n",
      "7900.0\n",
      "8000.0\n",
      "8100.0\n",
      "8200.0\n",
      "8300.0\n",
      "8400.0\n",
      "8500.0\n",
      "8600.0\n",
      "8700.0\n",
      "8800.0\n",
      "8900.0\n",
      "9000.0\n",
      "9100.0\n",
      "9200.0\n",
      "9300.0\n",
      "9400.0\n",
      "9500.0\n",
      "9600.0\n",
      "9700.0\n",
      "9800.0\n",
      "9900.0\n"
     ]
    }
   ],
   "source": [
    "#def process_incoming_data(data_list)\n",
    "for i in range(100):\n",
    "    print(i*100.0)\n"
   ]
  },
  {
   "cell_type": "code",
   "execution_count": 10,
   "metadata": {},
   "outputs": [
    {
     "data": {
      "text/plain": [
       "<generator object <genexpr> at 0x00000197EC3B6BA0>"
      ]
     },
     "execution_count": 10,
     "metadata": {},
     "output_type": "execute_result"
    }
   ],
   "source": [
    "#def prosession_loop_comprehension(data_list)\n",
    "data_list =  [1,2,3,4,5]\n",
    "data_list = (i*100.0 for i in range(100))\n",
    "data_list"
   ]
  },
  {
   "cell_type": "code",
   "execution_count": 11,
   "metadata": {},
   "outputs": [
    {
     "name": "stdout",
     "output_type": "stream",
     "text": [
      "b\n",
      "i love you\n"
     ]
    }
   ],
   "source": [
    "#Assigning lower function to a variable: here 'a' is a variable and it take the string value \"B\" & \"I LOVE YOU\" \n",
    "def low_alpha(a):\n",
    "    return a.lower()\n",
    "print(low_alpha('B'))\n",
    "print(low_alpha('I LOVE YOU'))"
   ]
  },
  {
   "cell_type": "code",
   "execution_count": 35,
   "metadata": {},
   "outputs": [
    {
     "name": "stdout",
     "output_type": "stream",
     "text": [
      "[1, 2]\n"
     ]
    }
   ],
   "source": [
    "#filter function. Example: f(x) = y where y > 3. THis is similar to where clause\n",
    "domain = [1,2,3,4,5]\n",
    "filter_range = filter(lambda x: x <3, domain)\n",
    "print(list(filter_range))"
   ]
  },
  {
   "cell_type": "code",
   "execution_count": 36,
   "metadata": {},
   "outputs": [
    {
     "name": "stdout",
     "output_type": "stream",
     "text": [
      "[54, 44, 15, 10, 9, 2]\n"
     ]
    }
   ],
   "source": [
    "#sorting list using sort method and sorted function and getting the list in descending order.\n",
    "list1 = [44, 10, 9, 2, 54, 15]\n",
    "list1.sort(reverse=True)\n",
    "print(list1)"
   ]
  },
  {
   "cell_type": "code",
   "execution_count": 41,
   "metadata": {},
   "outputs": [
    {
     "name": "stdout",
     "output_type": "stream",
     "text": [
      "[2, 9, 10, 15, 44, 54]\n"
     ]
    }
   ],
   "source": [
    "#sort list using sorted function\n",
    "list3 = [44, 10, 9, 2, 54, 15]\n",
    "print(sorted(list3))"
   ]
  },
  {
   "cell_type": "code",
   "execution_count": 43,
   "metadata": {},
   "outputs": [
    {
     "name": "stdout",
     "output_type": "stream",
     "text": [
      "[('abc', 121), ('abc', 148), ('abc', 221), ('abc', 231)]\n",
      "[('Twinkle', 5), ('Shine', 9), ('Rudra', 10), ('Lydia', 10)]\n"
     ]
    }
   ],
   "source": [
    "#print sorted tuples by values\n",
    "print(sorted([('abc', 121),('abc', 231),('abc', 148), ('abc',221)], key=lambda x: x[1]))\n",
    "tup = [('Shine', 9), ('Twinkle', 5), ('Rudra', 10), ('Lydia', 10)]\n",
    "tup1 = sorted(tup, key = lambda x : x[1])\n",
    "print(tup1)"
   ]
  },
  {
   "cell_type": "code",
   "execution_count": 44,
   "metadata": {},
   "outputs": [
    {
     "name": "stdout",
     "output_type": "stream",
     "text": [
      "{'red': 1, 'blue': 3, 'green': 2, 'yellow': 1}\n",
      "[('blue', 3), ('green', 2), ('red', 1), ('yellow', 1)]\n"
     ]
    }
   ],
   "source": [
    "#print number of occurences in a list\n",
    "from collections import Counter\n",
    "list2 = [\"red\",\"blue\",\"green\",\"green\",\"blue\",\"yellow\",\"blue\"]\n",
    "c = dict(Counter(list2))\n",
    "print(c)\n",
    "print(sorted(c.items(),key = lambda x: x[1], reverse =True))"
   ]
  },
  {
   "cell_type": "code",
   "execution_count": 45,
   "metadata": {},
   "outputs": [
    {
     "name": "stdout",
     "output_type": "stream",
     "text": [
      "['Cat', 'c', 'Bombay', 'b', 'Array', 'a']\n"
     ]
    }
   ],
   "source": [
    "#sorting list using sort method and sorted function\n",
    "list1 = [\"Array\", \"a\", \"b\", \"Bombay\", \"Cat\", \"c\"]\n",
    "list1.sort(key =str.lower,reverse = True)\n",
    "print(list1)"
   ]
  },
  {
   "cell_type": "code",
   "execution_count": 48,
   "metadata": {},
   "outputs": [
    {
     "name": "stdout",
     "output_type": "stream",
     "text": [
      "[4, 5, 6, 7]\n",
      "25\n"
     ]
    }
   ],
   "source": [
    "\n",
    "#reduce function. Example f(x) = y where y is sum all values in domain. \n",
    "import functools\n",
    "source = [4,5,6,7]\n",
    "print(source)\n",
    "reduce_range = functools.reduce( lambda x, y: x + y, source,3 )\n",
    "print(reduce_range)"
   ]
  },
  {
   "cell_type": "code",
   "execution_count": null,
   "metadata": {},
   "outputs": [],
   "source": []
  }
 ],
 "metadata": {
  "kernelspec": {
   "display_name": "Python 3",
   "language": "python",
   "name": "python3"
  },
  "language_info": {
   "codemirror_mode": {
    "name": "ipython",
    "version": 3
   },
   "file_extension": ".py",
   "mimetype": "text/x-python",
   "name": "python",
   "nbconvert_exporter": "python",
   "pygments_lexer": "ipython3",
   "version": "3.8.5"
  }
 },
 "nbformat": 4,
 "nbformat_minor": 4
}
